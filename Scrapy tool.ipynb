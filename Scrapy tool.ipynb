{
 "cells": [
  {
   "cell_type": "code",
   "execution_count": 1,
   "id": "488618e5",
   "metadata": {
    "scrolled": true
   },
   "outputs": [
    {
     "name": "stdout",
     "output_type": "stream",
     "text": [
      "Requirement already satisfied: scrapy in c:\\users\\lakshay\\appdata\\roaming\\python\\python39\\site-packages (2.10.0)\n",
      "Requirement already satisfied: Twisted>=18.9.0 in c:\\users\\lakshay\\anaconda3\\lib\\site-packages (from scrapy) (22.10.0)\n",
      "Requirement already satisfied: cryptography>=36.0.0 in c:\\users\\lakshay\\appdata\\roaming\\python\\python39\\site-packages (from scrapy) (41.0.3)\n",
      "Requirement already satisfied: cssselect>=0.9.1 in c:\\users\\lakshay\\appdata\\roaming\\python\\python39\\site-packages (from scrapy) (1.2.0)\n",
      "Requirement already satisfied: itemloaders>=1.0.1 in c:\\users\\lakshay\\appdata\\roaming\\python\\python39\\site-packages (from scrapy) (1.1.0)\n",
      "Requirement already satisfied: parsel>=1.5.0 in c:\\users\\lakshay\\appdata\\roaming\\python\\python39\\site-packages (from scrapy) (1.8.1)\n",
      "Requirement already satisfied: pyOpenSSL>=21.0.0 in c:\\users\\lakshay\\anaconda3\\lib\\site-packages (from scrapy) (23.2.0)\n",
      "Requirement already satisfied: queuelib>=1.4.2 in c:\\users\\lakshay\\appdata\\roaming\\python\\python39\\site-packages (from scrapy) (1.6.2)\n",
      "Requirement already satisfied: service-identity>=18.1.0 in c:\\users\\lakshay\\appdata\\roaming\\python\\python39\\site-packages (from scrapy) (23.1.0)\n",
      "Requirement already satisfied: w3lib>=1.17.0 in c:\\users\\lakshay\\appdata\\roaming\\python\\python39\\site-packages (from scrapy) (2.1.2)\n",
      "Requirement already satisfied: zope.interface>=5.1.0 in c:\\users\\lakshay\\appdata\\roaming\\python\\python39\\site-packages (from scrapy) (6.0)\n",
      "Requirement already satisfied: protego>=0.1.15 in c:\\users\\lakshay\\appdata\\roaming\\python\\python39\\site-packages (from scrapy) (0.3.0)\n",
      "Requirement already satisfied: itemadapter>=0.1.0 in c:\\users\\lakshay\\appdata\\roaming\\python\\python39\\site-packages (from scrapy) (0.8.0)\n",
      "Requirement already satisfied: setuptools in c:\\users\\lakshay\\appdata\\roaming\\python\\python39\\site-packages (from scrapy) (68.1.2)\n",
      "Requirement already satisfied: packaging in c:\\users\\lakshay\\appdata\\roaming\\python\\python39\\site-packages (from scrapy) (23.1)\n",
      "Requirement already satisfied: tldextract in c:\\users\\lakshay\\appdata\\roaming\\python\\python39\\site-packages (from scrapy) (3.4.4)\n",
      "Requirement already satisfied: lxml>=4.4.1 in c:\\users\\lakshay\\appdata\\roaming\\python\\python39\\site-packages (from scrapy) (4.9.3)\n",
      "Requirement already satisfied: PyDispatcher>=2.0.5 in c:\\users\\lakshay\\appdata\\roaming\\python\\python39\\site-packages (from scrapy) (2.0.7)\n",
      "Requirement already satisfied: cffi>=1.12 in c:\\users\\lakshay\\anaconda3\\lib\\site-packages (from cryptography>=36.0.0->scrapy) (1.15.1)\n",
      "Requirement already satisfied: jmespath>=0.9.5 in c:\\users\\lakshay\\appdata\\roaming\\python\\python39\\site-packages (from itemloaders>=1.0.1->scrapy) (1.0.1)\n",
      "Requirement already satisfied: attrs>=19.1.0 in c:\\users\\lakshay\\appdata\\roaming\\python\\python39\\site-packages (from service-identity>=18.1.0->scrapy) (23.1.0)\n",
      "Requirement already satisfied: pyasn1 in c:\\users\\lakshay\\appdata\\roaming\\python\\python39\\site-packages (from service-identity>=18.1.0->scrapy) (0.5.0)\n",
      "Requirement already satisfied: pyasn1-modules in c:\\users\\lakshay\\appdata\\roaming\\python\\python39\\site-packages (from service-identity>=18.1.0->scrapy) (0.3.0)\n",
      "Requirement already satisfied: constantly>=15.1 in c:\\users\\lakshay\\anaconda3\\lib\\site-packages (from Twisted>=18.9.0->scrapy) (15.1.0)\n",
      "Requirement already satisfied: incremental>=21.3.0 in c:\\users\\lakshay\\appdata\\roaming\\python\\python39\\site-packages (from Twisted>=18.9.0->scrapy) (22.10.0)\n",
      "Requirement already satisfied: Automat>=0.8.0 in c:\\users\\lakshay\\appdata\\roaming\\python\\python39\\site-packages (from Twisted>=18.9.0->scrapy) (22.10.0)\n",
      "Requirement already satisfied: hyperlink>=17.1.1 in c:\\users\\lakshay\\anaconda3\\lib\\site-packages (from Twisted>=18.9.0->scrapy) (21.0.0)\n",
      "Requirement already satisfied: typing-extensions>=3.6.5 in c:\\users\\lakshay\\anaconda3\\lib\\site-packages (from Twisted>=18.9.0->scrapy) (4.7.1)\n",
      "Requirement already satisfied: twisted-iocpsupport<2,>=1.0.2 in c:\\users\\lakshay\\appdata\\roaming\\python\\python39\\site-packages (from Twisted>=18.9.0->scrapy) (1.0.4)\n",
      "Requirement already satisfied: idna in c:\\users\\lakshay\\anaconda3\\lib\\site-packages (from tldextract->scrapy) (3.4)\n",
      "Requirement already satisfied: requests>=2.1.0 in c:\\users\\lakshay\\appdata\\roaming\\python\\python39\\site-packages (from tldextract->scrapy) (2.28.1)\n",
      "Requirement already satisfied: requests-file>=1.4 in c:\\users\\lakshay\\anaconda3\\lib\\site-packages (from tldextract->scrapy) (1.5.1)\n",
      "Requirement already satisfied: filelock>=3.0.8 in c:\\users\\lakshay\\appdata\\roaming\\python\\python39\\site-packages (from tldextract->scrapy) (3.12.2)\n",
      "Requirement already satisfied: six in c:\\users\\lakshay\\anaconda3\\lib\\site-packages (from Automat>=0.8.0->Twisted>=18.9.0->scrapy) (1.16.0)\n",
      "Requirement already satisfied: pycparser in c:\\users\\lakshay\\anaconda3\\lib\\site-packages (from cffi>=1.12->cryptography>=36.0.0->scrapy) (2.21)\n",
      "Requirement already satisfied: charset-normalizer<3,>=2 in c:\\users\\lakshay\\appdata\\roaming\\python\\python39\\site-packages (from requests>=2.1.0->tldextract->scrapy) (2.1.1)\n",
      "Requirement already satisfied: urllib3<1.27,>=1.21.1 in c:\\users\\lakshay\\anaconda3\\lib\\site-packages (from requests>=2.1.0->tldextract->scrapy) (1.26.16)\n",
      "Requirement already satisfied: certifi>=2017.4.17 in c:\\users\\lakshay\\anaconda3\\lib\\site-packages (from requests>=2.1.0->tldextract->scrapy) (2023.7.22)\n"
     ]
    }
   ],
   "source": [
    "!pip install scrapy"
   ]
  },
  {
   "cell_type": "code",
   "execution_count": 3,
   "id": "c0a289d4",
   "metadata": {},
   "outputs": [
    {
     "name": "stdout",
     "output_type": "stream",
     "text": [
      "New Scrapy project 'myProject', using template directory 'C:\\Users\\Lakshay\\AppData\\Roaming\\Python\\Python39\\site-packages\\scrapy\\templates\\project', created in:\n",
      "    C:\\Users\\Lakshay\\Desktop\\gitHubOnline\\myProject\n",
      "\n",
      "You can start your first spider with:\n",
      "    cd myProject\n",
      "    scrapy genspider example example.com\n"
     ]
    }
   ],
   "source": [
    "!scrapy startproject myProject"
   ]
  },
  {
   "cell_type": "code",
   "execution_count": null,
   "id": "2efee7e1",
   "metadata": {},
   "outputs": [],
   "source": []
  }
 ],
 "metadata": {
  "kernelspec": {
   "display_name": "Python 3 (ipykernel)",
   "language": "python",
   "name": "python3"
  },
  "language_info": {
   "codemirror_mode": {
    "name": "ipython",
    "version": 3
   },
   "file_extension": ".py",
   "mimetype": "text/x-python",
   "name": "python",
   "nbconvert_exporter": "python",
   "pygments_lexer": "ipython3",
   "version": "3.9.17"
  }
 },
 "nbformat": 4,
 "nbformat_minor": 5
}
